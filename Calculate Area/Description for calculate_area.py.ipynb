{
 "cells": [
  {
   "cell_type": "markdown",
   "metadata": {},
   "source": [
    "**Calculate area of Polygon-areas with PyQGIS**"
   ]
  },
  {
   "cell_type": "markdown",
   "metadata": {},
   "source": [
    "First set the path of your Shape-File\n",
    "```Python\n",
    "uri='C:/Users/PATH_TO_YOUR_FILE/FILENAME.shp'\n",
    "```"
   ]
  },
  {
   "cell_type": "markdown",
   "metadata": {},
   "source": [
    "Set a 'LAYERNAME'\n",
    "```Python\n",
    "layer = iface.addVectorLayer(uri, 'LAYERNAME', 'ogr')\t#adds layer to map\n",
    "```"
   ]
  },
  {
   "cell_type": "markdown",
   "metadata": {},
   "source": [
    ">Note: Make sure that there is an empty column named 'AREA' in your attribute-table "
   ]
  },
  {
   "cell_type": "markdown",
   "metadata": {},
   "source": [
    "Now the core of the function\n",
    "```Python\n",
    "def calculate_attributes():\n",
    "    with edit(layer):\n",
    "        for feature in layer.getFeatures():\n",
    "            feature.setAttribute(feature.fieldNameIndex('AREA'), feature.geometry().area())\n",
    "            layer.updateFeature(feature)\n",
    "\n",
    "calculate_attributes()\n",
    "```"
   ]
  },
  {
   "cell_type": "markdown",
   "metadata": {},
   "source": [
    "Areas now should be calculated. Check it in your attribute-table of the new generated layer."
   ]
  }
 ],
 "metadata": {
  "kernelspec": {
   "display_name": "Python 3",
   "language": "python",
   "name": "python3"
  },
  "language_info": {
   "codemirror_mode": {
    "name": "ipython",
    "version": 3
   },
   "file_extension": ".py",
   "mimetype": "text/x-python",
   "name": "python",
   "nbconvert_exporter": "python",
   "pygments_lexer": "ipython3",
   "version": "3.7.3"
  }
 },
 "nbformat": 4,
 "nbformat_minor": 2
}
